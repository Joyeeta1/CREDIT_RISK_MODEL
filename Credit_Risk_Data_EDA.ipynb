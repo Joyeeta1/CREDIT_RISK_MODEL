{
 "cells": [
  {
   "cell_type": "markdown",
   "id": "f15a2e98-bc89-4540-968b-aebbca957a50",
   "metadata": {},
   "source": [
    "# ZILCH - DATA SCIENCE TECHNICAL TEST"
   ]
  },
  {
   "cell_type": "code",
   "execution_count": 1,
   "id": "01403943-6212-4a5c-b818-c8030b741b50",
   "metadata": {},
   "outputs": [],
   "source": [
    "import matplotlib.pyplot as plt\n",
    "import numpy as np\n",
    "import pandas as pd\n",
    "import seaborn as sns\n",
    "import toad\n",
    "import warnings\n",
    "\n",
    "from sklearn.model_selection import train_test_split\n",
    "from sklearn.preprocessing import LabelEncoder\n",
    "from sklearn.linear_model import LinearRegression\n",
    "from sklearn.metrics import mean_absolute_error, mean_squared_error, r2_score\n",
    "from sklearn.linear_model import LinearRegression\n",
    "from sklearn.ensemble import RandomForestRegressor\n",
    "\n",
    "from empiricaldist import Pmf\n",
    "from empiricaldist import Cdf\n",
    "from scipy.stats import shapiro, zscore\n",
    "from sklearn.linear_model import LinearRegression\n",
    "from sklearn.metrics import mean_squared_error, r2_score\n",
    "from sklearn.model_selection import train_test_split\n",
    "\n",
    "import scipy.stats\n",
    "\n",
    "\n",
    "pd.set_option('display.max_columns', None)\n",
    "warnings.filterwarnings('ignore')"
   ]
  },
  {
   "cell_type": "code",
   "execution_count": null,
   "id": "e22d65c8-5888-4962-9ccb-ee557c8b8277",
   "metadata": {},
   "outputs": [],
   "source": []
  },
  {
   "cell_type": "markdown",
   "id": "7ac89bba-6542-4f54-9225-3988b7630b79",
   "metadata": {},
   "source": [
    "## HELPER FUNCTIONS"
   ]
  },
  {
   "cell_type": "code",
   "execution_count": 2,
   "id": "a295720f-5aad-422f-9208-498edc1c04f2",
   "metadata": {},
   "outputs": [],
   "source": [
    "def is_column_numerical(df: pd.DataFrame, column_name: str) -> bool:\n",
    "    \"\"\"\n",
    "    Checks if the specified column in the DataFrame is of a numerical datatype.\n",
    "\n",
    "    Args:\n",
    "        df (pd.DataFrame): The DataFrame containing the column.\n",
    "        column_name (str): The name of the column to check.\n",
    "\n",
    "    Returns:\n",
    "        bool: True if the column is numerical, False otherwise.\n",
    "    \"\"\"\n",
    "    return pd.api.types.is_numeric_dtype(df[column_name])\n",
    "\n",
    "def credit_history_in_months(val: str) -> int:\n",
    "    \"\"\"\n",
    "    Converts a credit history string in the format '<years> years <months> months' into total months.\n",
    "\n",
    "    Args:\n",
    "        val (str): The credit history string to convert.\n",
    "\n",
    "    Returns:\n",
    "        int: The total number of months, or None if the input is null.\n",
    "    \"\"\"\n",
    "    if pd.notnull(val):\n",
    "        years = int(val.split(' ')[0])\n",
    "        month = int(val.split(' ')[3])\n",
    "        return (years * 12) + month\n",
    "    else:\n",
    "        return val\n",
    "\n",
    "def plot_histogram(data: np.ndarray, bins: int, title: str, xlabel: str = None, ylabel: str = None, color: str = \"red\") -> None:\n",
    "    \"\"\"\n",
    "    Plots a histogram with percentage frequencies.\n",
    "\n",
    "    Args:\n",
    "        data (np.ndarray): The data to plot.\n",
    "        bins (int): The number of bins for the histogram.\n",
    "        title (str): The title of the histogram.\n",
    "        xlabel (str, optional): The label for the x-axis. Defaults to None.\n",
    "        ylabel (str, optional): The label for the y-axis. Defaults to None.\n",
    "        color (str, optional): The color of the histogram bars. Defaults to \"red\".\n",
    "    \"\"\"\n",
    "    counts, bin_edges, patches = plt.hist(data, bins=bins, color=color, weights=np.ones_like(data) / len(data) * 100)\n",
    "    plt.title(title, fontsize=10, fontweight='bold')\n",
    "    if xlabel:\n",
    "        plt.xlabel(xlabel)\n",
    "    if ylabel:\n",
    "        plt.ylabel(ylabel)\n",
    "\n",
    "def create_cdf_plot(figsize1: float, figsize2: float, col: pd.Series, threshold: float, title: str, xlabel: str) -> None:\n",
    "    \"\"\"\n",
    "    Creates a Cumulative Distribution Function (CDF) plot for a given column, marking the 95th percentile.\n",
    "\n",
    "    Args:\n",
    "        figsize1 (float): The width of the figure.\n",
    "        figsize2 (float): The height of the figure.\n",
    "        col (pd.Series): The column of data to analyze.\n",
    "        threshold (float): The maximum value to consider for the plot.\n",
    "        title (str): The title of the plot.\n",
    "        xlabel (str): The label for the x-axis.\n",
    "    \"\"\"\n",
    "    plt.figure(figsize=(figsize1, figsize2))\n",
    "\n",
    "    list_col = list(col.loc[col < threshold])\n",
    "\n",
    "    sorted_col = np.sort(list_col)\n",
    "    cdf_values = np.arange(1, len(sorted_col) + 1) / len(sorted_col)\n",
    "\n",
    "    percentile_95 = np.percentile(sorted_col, 95)\n",
    "\n",
    "    plt.plot(sorted_col, cdf_values, marker='.', linestyle='none', label=\"Cumulative Density\")\n",
    "    plt.axhline(0.95, color='red', linestyle='dotted', label=\"95% Threshold\")\n",
    "    plt.axvline(percentile_95, color='blue', linestyle='dotted', label=f\"95% at {percentile_95:.2f}\")\n",
    "\n",
    "    plt.title(title)\n",
    "    plt.xlabel(xlabel)\n",
    "    plt.ylabel(\"Cumulative Density\")\n",
    "    plt.grid(True, linestyle='dotted')\n",
    "    plt.legend()\n",
    "    plt.show()\n",
    "\n",
    "    print(f\"95th Percentile {percentile_95:.2f} of {xlabel}\")\n",
    "\n",
    "def remove_outliers_using_IQR(col: pd.Series, factor: float, name_col: str) -> pd.Series:\n",
    "    \"\"\"\n",
    "    Identifies and returns outliers in a column using the Interquartile Range (IQR) method.\n",
    "\n",
    "    Args:\n",
    "        col (pd.Series): The column of data to analyze.\n",
    "        factor (float): The multiplying factor for the IQR.\n",
    "        name_col (str): The name of the column for display purposes.\n",
    "\n",
    "    Returns:\n",
    "        pd.Series: The outliers in the column.\n",
    "    \"\"\"\n",
    "    q1 = col.quantile(0.25)\n",
    "    q3 = col.quantile(0.75)\n",
    "    IQR = q3 - q1\n",
    "\n",
    "    lower_limit = q1 - (IQR * factor)\n",
    "    upper_limit = q3 + (IQR * factor)\n",
    "\n",
    "    is_lower = col < lower_limit\n",
    "    is_upper = col > upper_limit\n",
    "\n",
    "    outliers = col[is_lower | is_upper]\n",
    "    print(f\"There were {len(outliers)} outliers in the {name_col} column.\")\n",
    "\n",
    "    return outliers\n",
    "\n",
    "def outlier_removal_modelling(data: pd.DataFrame, colname: str, factor: float) -> pd.DataFrame:\n",
    "    \"\"\"\n",
    "    Removes outliers from a DataFrame column using the Interquartile Range (IQR) method.\n",
    "\n",
    "    Args:\n",
    "        data (pd.DataFrame): The DataFrame containing the data.\n",
    "        colname (str): The name of the column to process.\n",
    "        factor (float): The multiplying factor for the IQR.\n",
    "\n",
    "    Returns:\n",
    "        pd.DataFrame: The DataFrame with outliers removed.\n",
    "    \"\"\"\n",
    "    q1 = data[colname].quantile(0.25)\n",
    "    q3 = data[colname].quantile(0.75)\n",
    "    IQR = q3 - q1\n",
    "\n",
    "    lower_limit = q1 - (IQR * factor)\n",
    "    upper_limit = q3 + (IQR * factor)\n",
    "\n",
    "    print(f\"There were {data.loc[(data[colname] < lower_limit) | (data[colname] > upper_limit)].shape[0]} outliers in the {colname} column.\")\n",
    "\n",
    "    data = data.loc[data[colname] >= lower_limit]\n",
    "    data = data.loc[data[colname] <= upper_limit]\n",
    "\n",
    "    return data\n"
   ]
  },
  {
   "cell_type": "code",
   "execution_count": null,
   "id": "2b80ab43-f0d5-49a5-9bf5-c09a799176cf",
   "metadata": {},
   "outputs": [],
   "source": []
  },
  {
   "cell_type": "markdown",
   "id": "09609b71-1dbc-471b-84ce-dd359c5eb3bb",
   "metadata": {},
   "source": [
    "### Import Data & Initial Basic Checks"
   ]
  },
  {
   "cell_type": "code",
   "execution_count": 3,
   "id": "baf317ca-a486-403e-85da-bfc5ab89ba0c",
   "metadata": {},
   "outputs": [],
   "source": [
    "# Import core data - training data set with full history.\n",
    "# Low memory to ensure no mixed data type inference.\n",
    "train_data = pd.read_csv(\"train.csv\", low_memory=False)\n",
    "\n",
    "# Import test and validation datasets\n",
    "test_data = pd.read_csv(\"test.csv\", low_memory=False)\n",
    "validation_data = pd.read_csv(\"validation.csv\", low_memory=False)"
   ]
  },
  {
   "cell_type": "code",
   "execution_count": 4,
   "id": "5c2e5224-e9e7-4d38-b7ba-5a0202d2c47d",
   "metadata": {},
   "outputs": [],
   "source": [
    "# Make a copy so we can easily reset & for EDA.\n",
    "df = train_data.copy()\n",
    "df1 = test_data.copy()\n",
    "df2 = validation_data.copy()"
   ]
  },
  {
   "cell_type": "code",
   "execution_count": 5,
   "id": "853391c3-7401-4574-beb1-8b3bf6e92719",
   "metadata": {},
   "outputs": [
    {
     "name": "stdout",
     "output_type": "stream",
     "text": [
      "There are 100000 rows and 30 columns in the core TRAINING dataset\n",
      "There are 25000 rows and 30 columns in the TEST dataset\n",
      "There are 25000 rows and 29 columns in the VALIDATION dataset\n"
     ]
    }
   ],
   "source": [
    "# See how many rows / cols we have in our datasets\n",
    "print(\"There are {} rows and {} columns in the core TRAINING dataset\".format(df.shape[0],df.shape[1]))\n",
    "print(\"There are {} rows and {} columns in the TEST dataset\".format(df1.shape[0],df1.shape[1]))\n",
    "print(\"There are {} rows and {} columns in the VALIDATION dataset\".format(df2.shape[0],df2.shape[1]))"
   ]
  },
  {
   "cell_type": "code",
   "execution_count": 6,
   "id": "a130601e-6a94-4f4b-9dc2-dd106b3e0afb",
   "metadata": {},
   "outputs": [],
   "source": [
    "# Add dummy NULLS to taget column in validation data as we are going to concatenate.\n",
    "df2[\"credit_score_target\"]=None\n",
    "\n",
    "# Create column in each which identifies the split when it comes to model building.\n",
    "df[\"data_cat\"]=\"train\"\n",
    "df1[\"data_cat\"]=\"test\"\n",
    "df2[\"data_cat\"]=\"validation\""
   ]
  },
  {
   "cell_type": "code",
   "execution_count": 7,
   "id": "f66dac1f-45ec-4be0-9469-8bde1358d558",
   "metadata": {},
   "outputs": [
    {
     "name": "stdout",
     "output_type": "stream",
     "text": [
      "(150000, 31)\n"
     ]
    }
   ],
   "source": [
    "# Concatenate train, test and validation. I only want to split data after preprocessing & treatment.\n",
    "df3 = pd.concat([df, df1, df2])\n",
    "\n",
    "# Check shape to ensure concat worked correctly\n",
    "print(df3.shape)"
   ]
  },
  {
   "cell_type": "code",
   "execution_count": 8,
   "id": "a3819543-e352-45a8-bb2b-8fcac7e08390",
   "metadata": {},
   "outputs": [
    {
     "data": {
      "text/plain": [
       "0"
      ]
     },
     "execution_count": 8,
     "metadata": {},
     "output_type": "execute_result"
    }
   ],
   "source": [
    "# See what the unique identifier is and where duplication occurs.\n",
    "df3[\"customer_id\"].nunique()\n",
    "dupes = df3[[\"customer_id\", \"data_cat\", \"month\"]].loc[df3[\"customer_id\"].duplicated()]\n",
    "dupes[\"data_cat\"].value_counts()\n",
    "\n",
    "# Shape = 0 shows each row can be uniquely identified using a combinating of customer_id and month.\n",
    "df3[df3.duplicated(subset=[\"customer_id\",\"month\"], keep=False)].shape[0]"
   ]
  },
  {
   "cell_type": "code",
   "execution_count": 9,
   "id": "0c337dcc-f436-40c8-9c15-db765b74ca96",
   "metadata": {},
   "outputs": [
    {
     "data": {
      "text/plain": [
       "True"
      ]
     },
     "execution_count": 9,
     "metadata": {},
     "output_type": "execute_result"
    }
   ],
   "source": [
    "# Validate customer_id represents 1 unique customer with NI number.\n",
    "df3[\"customer_id\"].nunique()==df3[\"national_insurance_number\"].nunique()\n",
    "\n",
    "# There seems to be some duplicates of name but that is possible - some people have the same names.\n",
    "# So no cause for concern.\n",
    "# df.loc[df[\"name\"].duplicated()]"
   ]
  },
  {
   "cell_type": "markdown",
   "id": "2ef6a925-fb47-4ef6-8635-217eafaae549",
   "metadata": {},
   "source": [
    "### SUMMARY:\n",
    "\n",
    "- There are 100k rows in our training dataset and 100k unique customer IDs - this shows our datset is customer-level data. So each row represents 1 customer.\n",
    "\n",
    "- The training dataset contains the entire population of customers. We have 100k unique customers.\n",
    "- 25k of those (duplicated) put into a test dataset to see performance in Sept-Dec.\n",
    "- 25k of those (duplicated) put into a validation dataset to see performance in Spet-Dec.\n",
    "\n",
    "- The data shows 100k unique customers each month, for 8 months (Jan - Aug)\n",
    "\n",
    "\n",
    "- Customer ID and National Insurance Numbers are analogous, so we can confirm that each row in the dataset represents 1 unique customer."
   ]
  },
  {
   "cell_type": "code",
   "execution_count": null,
   "id": "13ac643f-2306-441f-9691-03944fd5e7c5",
   "metadata": {},
   "outputs": [],
   "source": []
  },
  {
   "cell_type": "markdown",
   "id": "553d16f7-6496-459a-9ef2-81908d1289a4",
   "metadata": {},
   "source": [
    "## Exploratory Data Analysis"
   ]
  },
  {
   "cell_type": "markdown",
   "id": "3224f842-7610-4e03-9046-4c17b7d4ed0a",
   "metadata": {},
   "source": [
    "##### What is each column in the dataset - type, distribution and relationship to target variable?\n",
    "For each feature:\n",
    "- Check the datatype of the column and if that is inline with expectations. Is transformation/parsing required?\n",
    "- Check NULL values / missing data. Treat missing data by imputing or dropping values, former preffered.\n",
    "- Check presence of outliers and skewness of data.\n",
    "- Check for abnormal or incorrect values and treat."
   ]
  },
  {
   "cell_type": "markdown",
   "id": "5109a53f-0e59-4b7d-92a5-5dc48a69a119",
   "metadata": {},
   "source": [
    "#### Annual Income"
   ]
  },
  {
   "cell_type": "code",
   "execution_count": 10,
   "id": "d79a141d-3320-499c-8e48-3d4271d924d7",
   "metadata": {},
   "outputs": [
    {
     "name": "stdout",
     "output_type": "stream",
     "text": [
      "The Annual Income column is of float64 datatype. \n",
      "0% of the data is missing for this feature\n",
      "count    1.500000e+05\n",
      "mean     1.730552e+05\n",
      "std      1.404215e+06\n",
      "min      7.005930e+03\n",
      "25%      1.945549e+04\n",
      "50%      3.757861e+04\n",
      "75%      7.279690e+04\n",
      "max      2.419806e+07\n",
      "Name: annual_income, dtype: float64\n"
     ]
    }
   ],
   "source": [
    "# Column is of Floating Point Number Data Type.\n",
    "print(\"The Annual Income column is of %s datatype. \" % (df3[\"annual_income\"].dtype))\n",
    "\n",
    "# No missing data in this field.\n",
    "print(\"%d%% of the data is missing for this feature\" % (round((df3.loc[df3[\"annual_income\"].isnull()].shape[0]/100000)*100, 0)))\n",
    "\n",
    "# Highest salary is £24,000,000 pa and lowest is ~£7000 pa. Avergae salary is £176k.\n",
    "print(df3[\"annual_income\"].describe())"
   ]
  },
  {
   "cell_type": "code",
   "execution_count": 11,
   "id": "70af31fa-7aea-4f20-84ee-d448c8c644e3",
   "metadata": {},
   "outputs": [
    {
     "data": {
      "image/png": "[encoded data removed]",
      "text/plain": [
       "<Figure size 800x500 with 4 Axes>"
      ]
     },
     "metadata": {},
     "output_type": "display_data"
    }
   ],
   "source": [
    "# The highest salary is almost 130 times biggest than the average salary.\n",
    "# This would indicate data is highly skewed or presence of outliers.\n",
    "# Generate some histograms using different thresholds to show this.\n",
    "\n",
    "plt.figure(figsize=(8, 5))\n",
    "\n",
    "# Histogram of entire dataset - ALL data\n",
    "plt.subplot(2, 2, 1)\n",
    "plot_histogram(df[\"annual_income\"],\n",
    "               bins=int(np.sqrt(len(df))),\n",
    "               title=\"Annual Income - Entire Dataset\",\n",
    "               ylabel=\"Frequency (%)\")\n",
    "\n",
    "# Histogram of Annual Income < 750k\n",
    "plt.subplot(2, 2, 2)\n",
    "under_750k = df.loc[df[\"annual_income\"] <= 750_000.0]\n",
    "plot_histogram(under_750k[\"annual_income\"],\n",
    "               bins=int(np.sqrt(len(under_750k))),\n",
    "               title=\"Annual Income < £750k\")\n",
    "\n",
    "# Histogram of Annual Income < 120k\n",
    "plt.subplot(2, 2, 3)\n",
    "under_120k = df.loc[df[\"annual_income\"] <= 120_000.0]\n",
    "plot_histogram(under_120k[\"annual_income\"],\n",
    "               bins=int(np.sqrt(len(under_120k))),\n",
    "               title=\"Annual Income < £120k\",\n",
    "               xlabel=\"Annual Income in £\",\n",
    "               ylabel=\"Frequency (%)\")\n",
    "\n",
    "# Histogram of Annual Income < 70k\n",
    "plt.subplot(2, 2, 4)\n",
    "under_70k = df.loc[df[\"annual_income\"] <= 70_000.0]\n",
    "plot_histogram(under_70k[\"annual_income\"],\n",
    "               bins=int(np.sqrt(len(under_70k))),\n",
    "               title=\"Annual Income < £70k\",\n",
    "               xlabel=\"Annual Income in £\")\n",
    "\n",
    "plt.tight_layout()\n",
    "plt.show()"
   ]
  },
  {
   "cell_type": "code",
   "execution_count": 12,
   "id": "60b83115-ddf0-4a33-aa47-07536c1a7288",
   "metadata": {},
   "outputs": [
    {
     "data": {
      "image/png": "[encoded data removed]",
      "text/plain": [
       "<Figure size 600x400 with 1 Axes>"
      ]
     },
     "metadata": {},
     "output_type": "display_data"
    },
    {
     "name": "stdout",
     "output_type": "stream",
     "text": [
      "95th Percentile 130293.36 of Annual Income\n"
     ]
    }
   ],
   "source": [
    "# Want to determine what the ideal cutoff is for outliers. CDF can give more specific information.\n",
    "# Create a CDF of Annual Income - CDF: probability you get a value <= x for any given value of x.\n",
    "create_cdf_plot(figsize1=6,\n",
    "                figsize2=4,\n",
    "                col=df3[\"annual_income\"],\n",
    "                threshold=300_000.0,\n",
    "                title=\"Cumulative Density of Annual Income\",\n",
    "                xlabel=\"Annual Income\")"
   ]
  },
  {
   "cell_type": "markdown",
   "id": "391933e9-5179-4b2d-ad2f-ac834bf1cc0f",
   "metadata": {},
   "source": [
    "##### SUMMARY ###\n",
    "\n",
    "- No missing data in this feature.\n",
    "- The datatype is float so we can assume no unwanted characters or syntax errors.\n",
    "\n",
    "- I suspect outliers. Let's plot some histograms with different cut-offs for the highest salary and see at what value we can get the data to form somewhat of a normal distribution. Outliers in data disproportionately affect the calculation of regression coefficients resulting in a worse fit and poor predictive performance.\n",
    "\n",
    "- Using describe() for summary statistics we can see that the maximum value for annual income is x137 larger than the average. This is very suspicious and leads me to believe there are possible outliers in the dataset or the data is heavily skewed.\n",
    "\n",
    "- Say something abot outliers - data was treated for outliers\n",
    "- Positive correlation between annual income and credit score - this is a useful feature to have in our model and so we will use it.\n",
    "\n",
    "- I have chosen NOT to remove outliers because at this point I don't want to DROP any data.\n",
    "- When we perform Binning it will neutralize the effects of outliers as outliers are binned with the nearest group."
   ]
  },
  {
   "cell_type": "markdown",
   "id": "0b6b6879-7cde-4360-8d63-e86f6401d59b",
   "metadata": {},
   "source": [
    "### Age"
   ]
  },
  {
   "cell_type": "code",
   "execution_count": 13,
   "id": "28961533-5ff9-4c9d-bd57-d167f80bb382",
   "metadata": {},
   "outputs": [
    {
     "name": "stdout",
     "output_type": "stream",
     "text": [
      "The Age column is object datatype. \n",
      "0% of the data is missing for this feature\n",
      "count    150000.000000\n",
      "mean        110.337940\n",
      "std         684.066779\n",
      "min        -500.000000\n",
      "25%          25.000000\n",
      "50%          33.000000\n",
      "75%          42.000000\n",
      "max        8698.000000\n",
      "Name: age, dtype: float64\n",
      "0.59 %% of the AGE values are '-500' (missing/unknown)\n"
     ]
    }
   ],
   "source": [
    "# Column is string (object) data type.\n",
    "print(\"The Age column is %s datatype. \" % (df3[\"age\"].dtype))\n",
    "\n",
    "# Age is a numerical value - so understand why datatype was parsed to string?\n",
    "list(df3[\"age\"].unique())\n",
    "\n",
    "# We see some trailing '_' underscore characters.\n",
    "# Strip the unwanted underscore chars at beginning or end.\n",
    "df3[\"age\"] = df3[\"age\"].str.strip(\"_\")\n",
    "\n",
    "# Convert to integer datatype\n",
    "df3[\"age\"] = df3[\"age\"].astype(int)\n",
    "\n",
    "# No missing data in this field.\n",
    "print(\"%d%% of the data is missing for this feature\" % (round((df3.loc[df3[\"age\"].isnull()].shape[0]/100000)*100, 0)))\n",
    "\n",
    "# describe() summary stats show we have an erroneous value of -500 & also outlier/incorrect values >100\n",
    "print(df3[\"age\"].describe())\n",
    "\n",
    "# 886 records have age = -500. Assume incorrect/data missing.\n",
    "df3.loc[df3[\"age\"]==-500].shape[0]\n",
    "print(\"{} %% of the AGE values are '-500' (missing/unknown)\".format(\n",
    "    round((886/df3.shape[0])*100, 2)\n",
    "))"
   ]
  },
  {
   "cell_type": "code",
   "execution_count": 20,
   "id": "4259c9a6-b495-4ebf-8173-53c5d8ddf5db",
   "metadata": {},
   "outputs": [],
   "source": [
    "# Boxplot looks totally unbalanced, so let's use IQR to identifiy outliers.\n",
    "# Let's drop the values of -500 for now as they will skew the metrics.\n",
    "age_data = df3.loc[df3[\"age\"]!=-500]"
   ]
  },
  {
   "cell_type": "code",
   "execution_count": 21,
   "id": "fc0c68b5-d243-4bd3-9838-6c8646c369a6",
   "metadata": {},
   "outputs": [
    {
     "name": "stdout",
     "output_type": "stream",
     "text": [
      "There were 2834 outliers in the Age column.\n"
     ]
    }
   ],
   "source": [
    "# Identify outliers using helper function which uses IQR method.\n",
    "outliers = remove_outliers_using_IQR(col = age_data[\"age\"], factor=1.5, name_col=\"Age\")\n",
    "\n",
    "# Remove outliers from AGE feature.\n",
    "age_data = age_data.loc[~(age_data[\"age\"].isin(list(outliers)))]\n",
    "\n",
    "# Calculate a median value, now we have a more balanced dataset.\n",
    "median_age = age_data[\"age\"].median()\n",
    "\n",
    "# Impute -500 with median value.\n",
    "df3[\"age\"] = np.where(df3[\"age\"] == -500, median_age, df3[\"age\"])\n",
    "\n",
    "# Make a copy before I remove outliers - as I am not sure I want to drop data yet.\n",
    "df4 = df3.copy()\n",
    "\n",
    "# Remove outliers and store in new dataframe.\n",
    "df4 = df4.loc[~(df4[\"age\"].isin(list(outliers)))]"
   ]
  },
  {
   "cell_type": "code",
   "execution_count": 22,
   "id": "8829129f-4bec-4ff3-bfa1-0789eb7b2feb",
   "metadata": {},
   "outputs": [
    {
     "data": {
      "image/png": "[encoded data removed]",
      "text/plain": [
       "<Figure size 850x350 with 2 Axes>"
      ]
     },
     "metadata": {},
     "output_type": "display_data"
    }
   ],
   "source": [
    "# Set up a figure with two subplots side by side\n",
    "fig, axes = plt.subplots(1, 2, figsize=(8.5, 3.5), sharey=False)\n",
    "\n",
    "# Boxplot for the 'age' column before outlier removal\n",
    "axes[0].boxplot(df3[\"age\"])\n",
    "axes[0].set_title(\"Boxplot of Age Before Outlier Removal\", fontsize=10, fontweight='bold')\n",
    "axes[0].set_ylabel(\"Age\", fontsize=11)\n",
    "axes[0].grid(axis='y', linestyle='--', alpha=0.7)\n",
    "\n",
    "# Boxplot for the 'age' column after outlier removal\n",
    "axes[1].boxplot(df4[\"age\"])\n",
    "axes[1].set_title(\"Boxplot of Age After Outlier Removal\", fontsize=10, fontweight='bold')\n",
    "axes[1].set_ylabel(\"Age\", fontsize=11)\n",
    "axes[1].grid(axis='y', linestyle='--', alpha=0.7)\n",
    "\n",
    "# Adjust layout for better display\n",
    "plt.tight_layout()\n",
    "plt.show()"
   ]
  },
  {
   "cell_type": "markdown",
   "id": "5cc34ccc-b0df-4547-8e28-a8b73247876f",
   "metadata": {},
   "source": [
    "##### SUMMARY ###\n",
    "\n",
    "- Outlier detection and removal - with AGE we do want to remove them becuase it's legit impossible to have 200 years old.\n",
    "- No missing data in this feature.\n",
    "- df3 is still the whole dataset, df4 is ater outlier removal (2834 rows dropped, 1.9% of total data)"
   ]
  },
  {
   "cell_type": "markdown",
   "id": "eece1ce9-bb0b-4b51-8119-3b3c43335ab1",
   "metadata": {},
   "source": [
    "#### Number of Bank Accounts & Number of Credit Cards"
   ]
  },
  {
   "cell_type": "code",
   "execution_count": 23,
   "id": "2a9020af-98b6-49eb-ba52-0f3bd6a100df",
   "metadata": {},
   "outputs": [
    {
     "name": "stdout",
     "output_type": "stream",
     "text": [
      "<class 'pandas.core.frame.DataFrame'>\n",
      "Int64Index: 150000 entries, 0 to 24999\n",
      "Data columns (total 2 columns):\n",
      " #   Column             Non-Null Count   Dtype\n",
      "---  ------             --------------   -----\n",
      " 0   num_bank_accounts  150000 non-null  int64\n",
      " 1   num_credit_card    150000 non-null  int64\n",
      "dtypes: int64(2)\n",
      "memory usage: 3.4 MB\n"
     ]
    },
    {
     "data": {
      "text/html": [
       "<div>\n",
       "<style scoped>\n",
       "    .dataframe tbody tr th:only-of-type {\n",
       "        vertical-align: middle;\n",
       "    }\n",
       "\n",
       "    .dataframe tbody tr th {\n",
       "        vertical-align: top;\n",
       "    }\n",
       "\n",
       "    .dataframe thead th {\n",
       "        text-align: right;\n",
       "    }\n",
       "</style>\n",
       "<table border=\"1\" class=\"dataframe\">\n",
       "  <thead>\n",
       "    <tr style=\"text-align: right;\">\n",
       "      <th></th>\n",
       "      <th>num_bank_accounts</th>\n",
       "      <th>num_credit_card</th>\n",
       "    </tr>\n",
       "  </thead>\n",
       "  <tbody>\n",
       "    <tr>\n",
       "      <th>count</th>\n",
       "      <td>150000.000000</td>\n",
       "      <td>150000.000000</td>\n",
       "    </tr>\n",
       "    <tr>\n",
       "      <th>mean</th>\n",
       "      <td>17.006940</td>\n",
       "      <td>22.623447</td>\n",
       "    </tr>\n",
       "    <tr>\n",
       "      <th>std</th>\n",
       "      <td>117.069476</td>\n",
       "      <td>129.143006</td>\n",
       "    </tr>\n",
       "    <tr>\n",
       "      <th>min</th>\n",
       "      <td>-1.000000</td>\n",
       "      <td>0.000000</td>\n",
       "    </tr>\n",
       "    <tr>\n",
       "      <th>25%</th>\n",
       "      <td>3.000000</td>\n",
       "      <td>4.000000</td>\n",
       "    </tr>\n",
       "    <tr>\n",
       "      <th>50%</th>\n",
       "      <td>6.000000</td>\n",
       "      <td>5.000000</td>\n",
       "    </tr>\n",
       "    <tr>\n",
       "      <th>75%</th>\n",
       "      <td>7.000000</td>\n",
       "      <td>7.000000</td>\n",
       "    </tr>\n",
       "    <tr>\n",
       "      <th>max</th>\n",
       "      <td>1798.000000</td>\n",
       "      <td>1499.000000</td>\n",
       "    </tr>\n",
       "  </tbody>\n",
       "</table>\n",
       "</div>"
      ],
      "text/plain": [
       "       num_bank_accounts  num_credit_card\n",
       "count      150000.000000    150000.000000\n",
       "mean           17.006940        22.623447\n",
       "std           117.069476       129.143006\n",
       "min            -1.000000         0.000000\n",
       "25%             3.000000         4.000000\n",
       "50%             6.000000         5.000000\n",
       "75%             7.000000         7.000000\n",
       "max          1798.000000      1499.000000"
      ]
     },
     "execution_count": 23,
     "metadata": {},
     "output_type": "execute_result"
    }
   ],
   "source": [
    "# Columns are of Integer Data Type and have no missing values.\n",
    "df3[[\"num_bank_accounts\", \"num_credit_card\"]].info()\n",
    "\n",
    "# We see high variance and max values are big deviation from the mean, indicating outliers.\n",
    "df3[[\"num_bank_accounts\", \"num_credit_card\"]].describe()"
   ]
  },
  {
   "cell_type": "code",
   "execution_count": 24,
   "id": "7c92025c-c10c-48ca-9c3d-883b2cef0332",
   "metadata": {},
   "outputs": [
    {
     "data": {
      "image/png": "[encoded data removed]",
      "text/plain": [
       "<Figure size 500x300 with 1 Axes>"
      ]
     },
     "metadata": {},
     "output_type": "display_data"
    },
    {
     "name": "stdout",
     "output_type": "stream",
     "text": [
      "95th Percentile 10.00 of No. of Bank Accounts\n"
     ]
    },
    {
     "data": {
      "image/png": "[encoded data removed]",
      "text/plain": [
       "<Figure size 500x300 with 1 Axes>"
      ]
     },
     "metadata": {},
     "output_type": "display_data"
    },
    {
     "name": "stdout",
     "output_type": "stream",
     "text": [
      "95th Percentile 10.00 of No. of Credit Cards\n"
     ]
    }
   ],
   "source": [
    "# CDF plot to see cut-off point at which most of the data is accounter for.\n",
    "# After this we can consider data points to be outliers or extreme values.\n",
    "create_cdf_plot(figsize1=5,\n",
    "                figsize2=3,\n",
    "                col=df3[\"num_bank_accounts\"],\n",
    "                threshold=50,\n",
    "                title=\"Cumulative Density of The Number of Bank Accounts\", xlabel=\"No. of Bank Accounts\")\n",
    "\n",
    "# CDF of Credit Card volume shows similar spread of data with outliers after n=10.\n",
    "create_cdf_plot(figsize1=5,\n",
    "                figsize2=3,\n",
    "                col=df3[\"num_credit_card\"],\n",
    "                threshold=50,\n",
    "                title=\"Cumulative Density of The Number of Credit Cards\", xlabel=\"No. of Credit Cards\")"
   ]
  },
  {
   "cell_type": "code",
   "execution_count": 25,
   "id": "4d48c040-41fc-4ced-bb98-610d97cf57c6",
   "metadata": {},
   "outputs": [],
   "source": [
    "# Get rid of all values of bank accounts/credit cards greater than 10.0. For data vis purpose only.\n",
    "df_num_banks_cards = df3.loc[(df3[\"num_bank_accounts\"]<=10)]\n",
    "df_num_banks_cards = df_num_banks_cards.loc[(df_num_banks_cards[\"num_credit_card\"]<=10)]"
   ]
  },
  {
   "cell_type": "code",
   "execution_count": 26,
   "id": "83b86d8e-574e-4a29-88e7-d741b8e16e4d",
   "metadata": {},
   "outputs": [
    {
     "data": {
      "text/plain": [
       "Text(0.5, 1.02, 'Number of Bank Accounts vs. Credit Cards')"
      ]
     },
     "execution_count": 26,
     "metadata": {},
     "output_type": "execute_result"
    },
    {
     "data": {
      "image/png": "[encoded data removed]",
      "text/plain": [
       "<Figure size 300x300 with 1 Axes>"
      ]
     },
     "metadata": {},
     "output_type": "display_data"
    }
   ],
   "source": [
    "plot = sns.relplot(data=df_num_banks_cards,\n",
    "                   x=\"num_bank_accounts\",\n",
    "                   y=\"num_credit_card\",\n",
    "                   height=3,\n",
    "                   aspect=1,\n",
    "                   kind='scatter',\n",
    "                   s=10)\n",
    "\n",
    "plot.fig.suptitle(\"Number of Bank Accounts vs. Credit Cards\", y=1.02)"
   ]
  },
  {
   "cell_type": "markdown",
   "id": "06d3d191-3f80-4f98-a639-3d6c05f57c2e",
   "metadata": {},
   "source": [
    "#### SUMMARY\n",
    " \n",
    " \n",
    "- Columns are of Integer Data Type, so can assume no syntax errors or weird characters.\n",
    "- There are 0 rows with missing data as shown by the 'Non-Null Count' header below\n",
    "- Plotting a histogram with ALL the data showed that most of it seemed to be within 15 bank accounts - EXPAND.\n",
    "- I just did trial and error until I got something which resembled a normal distribution. THEN test for normality.\n",
    "- I am going to leave the outliers in here for now as this will be treated with BINNING and I don't want to lose any more data.\n",
    "- There seems to be a weak positive correlation between the number of bank accounts and number of credit cards.\n"
   ]
  },
  {
   "cell_type": "markdown",
   "id": "b725a0b9-5949-470a-89dc-efa97a04a848",
   "metadata": {},
   "source": [
    "#### Occupation"
   ]
  },
  {
   "cell_type": "code",
   "execution_count": null,
   "id": "d4004d71-6c96-492c-ac07-b7133a8728d7",
   "metadata": {},
   "outputs": [],
   "source": [
    "# Column is of Integer Data Type.\n",
    "print(\"The Occupation column is of %s datatype. \" % (df3[\"occupation\"].dtype))\n",
    "\n",
    "# No missing data in this field.\n",
    "print(\"%d%% of the data is missing for this feature\" % (round((df3.loc[df3[\"occupation\"]\n",
    "                                                                       .isnull()].shape[0]/100000)*100, 0)))\n",
    "\n",
    "# Identify distinct occupations represented in this dataset.\n",
    "df3[\"occupation\"].unique()\n",
    "\n",
    "# Can identify one erroneous category with '_______' as the value.\n",
    "# Assume here the occupation is unknown and replace.\n",
    "df3[\"occupation\"] = df3[\"occupation\"].replace(\"_______\", \"Unknown\")"
   ]
  },
  {
   "cell_type": "code",
   "execution_count": null,
   "id": "ee84e4d7-3e0e-40d5-864c-6314de2ccf6d",
   "metadata": {},
   "outputs": [],
   "source": [
    "# Calculate the average credit score by occupation\n",
    "avg_credit_score = df3.groupby('occupation')['credit_score_target'].mean().sort_values()\n",
    "\n",
    "# Normalize the credit scores for color mapping\n",
    "normalized_scores = (avg_credit_score - avg_credit_score.min()) / (avg_credit_score.max() - avg_credit_score.min())\n",
    "colors = plt.cm.RdYlGn(normalized_scores)  # Use the RdYlGn colormap\n",
    "\n",
    "# Plot with normalized colors\n",
    "plt.figure(figsize=(8, 4))\n",
    "bars = plt.barh(avg_credit_score.index, avg_credit_score, color=colors, edgecolor='black')\n",
    "plt.xlabel('Average Credit Score', fontsize=10)\n",
    "plt.ylabel('Occupation', fontsize=10)\n",
    "plt.title('Average Credit Score by Occupation (Low Scores in Red, High Scores in Green)', fontsize=11)\n",
    "plt.grid(axis='x', linestyle='--', alpha=0.6)\n",
    "\n",
    "# Add data labels\n",
    "for bar in bars:\n",
    "    plt.text(bar.get_width() + 2, bar.get_y() + bar.get_height()/2,\n",
    "             f'{bar.get_width():.1f}', va='center', fontsize=7)\n",
    "\n",
    "plt.tight_layout()\n",
    "plt.show()"
   ]
  },
  {
   "cell_type": "markdown",
   "id": "56356328-1fe9-4995-b3f8-6dc39d7dd0c7",
   "metadata": {},
   "source": [
    "### SUMMARY\n",
    "\n",
    "- Here's a horizontal bar chart illustrating the average credit score for each occupation. The colors reflect the values, creating a visually engaging and informative representation.\n",
    "- Here’s how to explicitly normalize the data and apply the gradient:\n",
    "- This approach explicitly normalizes the data and applies the gradient correctly. Let me know if you need further clarification!\n"
   ]
  },
  {
   "cell_type": "markdown",
   "id": "e31da8c2-e403-452d-9a60-e7b6e6459d6a",
   "metadata": {},
   "source": [
    "#### Days Late & Number of Missed Payments"
   ]
  },
  {
   "cell_type": "code",
   "execution_count": null,
   "id": "864a98ae-5f8b-4ac6-8fa4-96f032baee3f",
   "metadata": {},
   "outputs": [],
   "source": [
    "# Column is of Integer Data Type.\n",
    "print(\"The Days Late column is of %s datatype. \" % (df3[\"delay_from_due_date\"].dtype))\n",
    "\n",
    "# No missing data in this field.\n",
    "print(\"%d%% of the data is missing for this feature\"%(round((df3.loc[df3[\"delay_from_due_date\"].isnull()].shape[0]/100000)*100, 0)))\n",
    "print(\" \")\n",
    "\n",
    "# Column is of Float Data Type.\n",
    "print(\"The Missing Payments column is of %s datatype. \"%(df3[\"num_of_delayed_payment\"].dtype))\n",
    "\n",
    "# 10% NULL values / missing data in this field.\n",
    "print(\"%d%% of the data is missing for this feature\"%(round((df3.loc[df3[\"num_of_delayed_payment\"].isnull()].shape[0]/100000)*100, 0)))"
   ]
  },
  {
   "cell_type": "code",
   "execution_count": null,
   "id": "c034843c-d046-4251-b320-889cad3a029a",
   "metadata": {},
   "outputs": [],
   "source": [
    "# No. of delayed payments has outliers/extreme values. Also negative values make no sense.\n",
    "df3[[\"delay_from_due_date\", \"num_of_delayed_payment\"]].describe()"
   ]
  },
  {
   "cell_type": "code",
   "execution_count": null,
   "id": "208049eb-9b52-4436-8c70-21ea22878b7e",
   "metadata": {},
   "outputs": [],
   "source": [
    "# Going to assume negatives are just 'current' customers - they are not late on any payments.\n",
    "# Keeping negatives might imply that you are a better customer the more negative you are.\n",
    "df3[\"delay_from_due_date\"] = np.where(df3[\"delay_from_due_date\"]<0, 0, df3[\"delay_from_due_date\"])\n",
    "\n",
    "# Check to make sure replacing negatives worked. Should be empty array.\n",
    "df3[\"delay_from_due_date\"].loc[df3[\"delay_from_due_date\"]<0].unique()"
   ]
  },
  {
   "cell_type": "code",
   "execution_count": null,
   "id": "f73c0bc3-1819-46e2-9383-bb0c2ac6d6b8",
   "metadata": {},
   "outputs": [],
   "source": [
    "# Delayed payments has NaN so we impute them with the mean following outlier treatment.\n",
    "outliers_delayed_payments = remove_outliers_using_IQR(col=df3[\"num_of_delayed_payment\"],\n",
    "                                                      factor=1.5,\n",
    "                                                      name_col=\"Delayed Payments\")\n",
    "\n",
    "# Remove outliers just so we can calculate a more accurate median value.\n",
    "df_treated_delayed_payments = df3.loc[~(df3[\"num_of_delayed_payment\"].isin(list(outliers_delayed_payments)))]\n",
    "\n",
    "# Calculate a median value, now we have a more balanced dataset.\n",
    "median_delayed_payments = df_treated_delayed_payments[\"num_of_delayed_payment\"].median()\n",
    "\n",
    "# Original dataset.\n",
    "df3[\"num_of_delayed_payment\"] = np.where(df3[\"num_of_delayed_payment\"].isnull(),\n",
    "                                        median_delayed_payments,\n",
    "                                        df3[\"num_of_delayed_payment\"])"
   ]
  },
  {
   "cell_type": "code",
   "execution_count": null,
   "id": "772d9b87-77f2-44eb-82ec-3f051a97b4d8",
   "metadata": {},
   "outputs": [],
   "source": [
    "# I want to investigate the correlation between these variables\n",
    "df1_treated_delayed_payments = df_treated_delayed_payments.loc[df_treated_delayed_payments[\"num_of_delayed_payment\"].notnull()]\n",
    "\n",
    "# R correlation coefficient shows moderate positive linear relationship.\n",
    "scipy.stats.pearsonr(df1_treated_delayed_payments[\"delay_from_due_date\"],\n",
    "                     df1_treated_delayed_payments[\"num_of_delayed_payment\"])    # Pearson's r"
   ]
  },
  {
   "cell_type": "code",
   "execution_count": null,
   "id": "4a6db2b2-4212-4f24-9f28-52a77f395f3f",
   "metadata": {},
   "outputs": [],
   "source": [
    "# Plot the actual data points\n",
    "plt.figure(figsize=(5, 3))\n",
    "\n",
    "plt.scatter(df1_treated_delayed_payments[\"delay_from_due_date\"],\n",
    "            df1_treated_delayed_payments[\"num_of_delayed_payment\"],\n",
    "            s=7)\n",
    "\n",
    "# Calculate the line of best fit\n",
    "x = df1_treated_delayed_payments[\"delay_from_due_date\"]\n",
    "y = df1_treated_delayed_payments[\"num_of_delayed_payment\"]\n",
    "m, b = np.polyfit(x, y, 1)  # Linear regression (slope and intercept)\n",
    "\n",
    "# Plot the line of best fit\n",
    "plt.plot(x, m*x + b, color=\"red\", label=\"Line of Best Fit\")\n",
    "\n",
    "plt.title(\"Days Late vs. Number of Delayed Payments\")\n",
    "plt.xlabel(\"Delay from Due Date\")\n",
    "plt.ylabel(\"Number of Delayed Payments\")\n",
    "plt.grid(True, linestyle='--', alpha=0.6)\n",
    "plt.legend()\n",
    "\n",
    "plt.show()"
   ]
  },
  {
   "cell_type": "markdown",
   "id": "17a90d9b-ea15-49d6-9a04-85d9eaba0b99",
   "metadata": {},
   "source": [
    "#### SUMMARY:\n",
    "\n",
    "- I would have liked to use a simple regression value to fill in the missing data here in delayed payments column.\n",
    "- This column would be useful but there is a bunch of missing data - can we impute from delay from due date??\n",
    "\n",
    "There is a moderate positive linear relationship between delay_from_due_date and num_of_delayed_payment. As one increases, the other tends to increase as well.\n",
    "Statistical Significance: The \n",
    "𝑝\n",
    "p-value confirms that this relationship is statistically significant and not likely due to random variation in your data."
   ]
  },
  {
   "cell_type": "markdown",
   "id": "20fa79a9-b20a-4182-9ae6-c95e67e00356",
   "metadata": {},
   "source": [
    "#### Payment Behaviour"
   ]
  },
  {
   "cell_type": "code",
   "execution_count": null,
   "id": "b66241b1-e96e-45e3-809e-3d08a8cc38d0",
   "metadata": {},
   "outputs": [],
   "source": [
    "# Column is of Object Data Type.\n",
    "print(\"The Payment column is of %s datatype. \" % (df3[\"payment_behaviour\"].dtype))\n",
    "\n",
    "# No missing data in this field.\n",
    "print(\"%d%% of the data is missing for this feature\"%(round((df3.loc[df3[\"payment_behaviour\"]\n",
    "                                                                     .isnull()].shape[0]/100000)*100, 0)))\n",
    "\n",
    "# An erroneous value of '!@9#%8' appears. Assume payment behaviour in this case is unknown.\n",
    "df3[\"payment_behaviour\"].unique()\n",
    "\n",
    "# Assume payment behaviour in this case is unknown.\n",
    "df3[\"payment_behaviour\"] = np.where(df3[\"payment_behaviour\"]==\"!@9#%8\", \"Unknown\", df3[\"payment_behaviour\"])"
   ]
  },
  {
   "cell_type": "markdown",
   "id": "b2b99945-0f19-4873-bc1b-861defe04af3",
   "metadata": {},
   "source": [
    "#### Outstanding Debt"
   ]
  },
  {
   "cell_type": "code",
   "execution_count": null,
   "id": "eeb0b0a3-767b-4a7e-8560-6c1041cb0a57",
   "metadata": {},
   "outputs": [],
   "source": [
    "# Column is of Float Data Type.\n",
    "print(\"The Outstanding Debt column is of %s datatype. \" % (df3[\"outstanding_debt\"].dtype))\n",
    "\n",
    "# No missing data in this field.\n",
    "print(\"%d%% of the data is missing for this feature\"%(round((df3.loc[df3[\"outstanding_debt\"]\n",
    "                                                                     .isnull()].shape[0]/100000)*100, 0)))"
   ]
  },
  {
   "cell_type": "code",
   "execution_count": null,
   "id": "003d8d18-9594-4c71-a93a-791038c95b71",
   "metadata": {},
   "outputs": [],
   "source": [
    "df3[\"outstanding_debt\"].describe()\n",
    "print(\"{} records which show a negative value.\".format(df3.loc[df3[\"outstanding_debt\"]<0].shape[0]))"
   ]
  },
  {
   "cell_type": "code",
   "execution_count": null,
   "id": "0a1e1054-b634-473e-8a82-466760de7fff",
   "metadata": {},
   "outputs": [],
   "source": [
    "# Identify outliers using helper function which uses IQR method.\n",
    "outliers_debt = remove_outliers_using_IQR(col = df3[\"outstanding_debt\"], factor=1.5, name_col=\"Outstanding Debt\")\n",
    "\n",
    "# Remove outliers and store in new dataframe.\n",
    "outstanding_debt = df3.loc[~(df3[\"outstanding_debt\"].isin(list(outliers_debt)))]\n",
    "outstanding_debt = outstanding_debt[[\"customer_id\", \"month\",\"outstanding_debt\", \"credit_score_target\"]]"
   ]
  },
  {
   "cell_type": "code",
   "execution_count": null,
   "id": "042a2238-0ee0-4b35-9f35-8a368189386d",
   "metadata": {},
   "outputs": [],
   "source": [
    "# Create a scatter plot with a regression line to visualize the relationship\n",
    "plt.figure(figsize=(6, 3))\n",
    "sns.regplot(\n",
    "    x=\"outstanding_debt\",\n",
    "    y=\"credit_score_target\",\n",
    "    data=outstanding_debt,\n",
    "    scatter_kws={\"s\": 15, \"alpha\": 0.7},\n",
    "    line_kws={\"color\": \"red\", \"linewidth\": 2},  # Customize regression line\n",
    ")\n",
    "\n",
    "# Add titles and labels for better readability\n",
    "plt.title(\"Relationship Between Outstanding Debt and Credit Score Target\", fontsize=14, fontweight=\"bold\")\n",
    "plt.xlabel(\"Outstanding Debt\", fontsize=12)\n",
    "plt.ylabel(\"Credit Score Target\", fontsize=12)\n",
    "plt.grid(axis=\"both\", linestyle=\"--\", alpha=0.6)\n",
    "\n",
    "# Show the plot\n",
    "plt.tight_layout()\n",
    "plt.show()"
   ]
  },
  {
   "cell_type": "markdown",
   "id": "f1b23a05-3c5e-4f84-8896-acb851217f38",
   "metadata": {},
   "source": [
    "#### Credit History Age"
   ]
  },
  {
   "cell_type": "code",
   "execution_count": null,
   "id": "5996ac76-4291-4edf-913a-5936737317c9",
   "metadata": {},
   "outputs": [],
   "source": [
    "# Column is of Float Data Type.\n",
    "print(\"The Credit History Age is of %s datatype. \" % (df3[\"credit_history_age\"].dtype))\n",
    "\n",
    "# 14% data missing data in this field.\n",
    "print(\"%d%% of the data is missing for this feature\"%(round((df3.loc[df3[\"credit_history_age\"].isnull()].shape[0]/100000)*100, 0)))\n",
    "\n",
    "# Immediately notice credit_history_age is a string which we will need to convert to numerical value.\n",
    "df3[\"credit_history_age\"].unique()\n",
    "\n",
    "# Applying the function to the column\n",
    "df3[\"credit_history_age\"] = df3[\"credit_history_age\"].apply(lambda x: credit_history_in_months(x)).astype(float)"
   ]
  },
  {
   "cell_type": "code",
   "execution_count": null,
   "id": "dd11d499-1394-4e04-a3c2-5ee0058ae008",
   "metadata": {},
   "outputs": [],
   "source": [
    "# CHECK now to make sure column is converted to numeric datatype. \n",
    "print(\"The Credit History Age is of %s datatype. \" % (df3[\"credit_history_age\"].dtype))"
   ]
  },
  {
   "cell_type": "code",
   "execution_count": null,
   "id": "e822ec09-6333-4463-8045-7f2812dc5de4",
   "metadata": {},
   "outputs": [],
   "source": [
    "# Let's fill in missing data with an average value.\n",
    "outliers_credit_age = remove_outliers_using_IQR(col = df3[\"credit_history_age\"], factor=1.5, name_col=\"Credit History Age\")\n",
    "\n",
    "# Remove outliers from feature.\n",
    "credit_age_data = df3.loc[~(df3[\"credit_history_age\"].isin(list(outliers_credit_age)))]\n",
    "\n",
    "# Calculate a median value, now we have a more balanced dataset.\n",
    "median_credit_age = credit_age_data[\"credit_history_age\"].median()\n",
    "\n",
    "# Impute NULL with median value.\n",
    "df3[\"credit_history_age\"] = np.where(df3[\"credit_history_age\"].isnull(), median_credit_age, df3[\"credit_history_age\"])"
   ]
  },
  {
   "cell_type": "markdown",
   "id": "9bf7387e-cf67-499b-940b-06f89f55b9df",
   "metadata": {},
   "source": [
    "#### Number of Loans"
   ]
  },
  {
   "cell_type": "code",
   "execution_count": null,
   "id": "4ecc4964-e6f8-4a39-aa7b-fe16f55e436d",
   "metadata": {},
   "outputs": [],
   "source": [
    "# Column is of Float Data Type.\n",
    "print(\"The Number of Loans is of %s datatype. \" % (df3[\"num_of_loan\"].dtype))\n",
    "\n",
    "# No data missing data in this field.\n",
    "print(\"%d%% of the data is missing for this feature\"%(round((df3.loc[df3[\"num_of_loan\"].isnull()].shape[0]/100000)*100, 0)))\n",
    "\n",
    "# 3713 which are below 0 (doesn't really make sense to have a negative number of loans).\n",
    "tt1 = df3[[\"customer_id\", \"num_of_loan\"]].loc[df3[\"num_of_loan\"]<0]\n",
    "\n",
    "# There are ALL -100, so we can assume that '-100' here means unknown/we don't know the number of loans.\n",
    "# tt1[\"num_of_loan\"].unique()"
   ]
  },
  {
   "cell_type": "markdown",
   "id": "00270d47-063b-466b-8ea5-0c01f49055f5",
   "metadata": {},
   "source": [
    "#### Type of Loan"
   ]
  },
  {
   "cell_type": "code",
   "execution_count": null,
   "id": "8e20a10f-e200-4cb1-a39b-5b88d77d5881",
   "metadata": {},
   "outputs": [],
   "source": [
    "# Column is of Object Type.\n",
    "print(\"The Type of Loan is of %s datatype. \" % (df3[\"type_of_loan\"].dtype))\n",
    "\n",
    "# 11% missing data in this field.\n",
    "print(\"%d%% of the data is missing for this feature\"%(round((df3.loc[df3[\"type_of_loan\"].isnull()].shape[0]/100000)*100, 0)))"
   ]
  },
  {
   "cell_type": "code",
   "execution_count": null,
   "id": "5dee42f9-ca95-407c-a830-48f9c1869c75",
   "metadata": {},
   "outputs": [],
   "source": [
    "# Fill NULL values with 'not specified' which is also the mode value\n",
    "df3[\"type_of_loan\"] = df3[\"type_of_loan\"].fillna(\"Not Specified\")"
   ]
  },
  {
   "cell_type": "code",
   "execution_count": null,
   "id": "b1905d05-dc3f-484d-a238-7f7ab387f1ee",
   "metadata": {},
   "outputs": [],
   "source": [
    "# Split the `type_of_loan` column into individual loan types\n",
    "df_tt2_expanded = df3[[\"customer_id\", \"type_of_loan\", \"credit_score_target\"]]\n",
    "df_tt2_expanded = df_tt2_expanded.assign(type_of_loan=df_tt2_expanded[\"type_of_loan\"].str.split(\", \"))\n",
    "\n",
    "# Explode the DataFrame to have one loan type per row\n",
    "df_tt2_expanded = df_tt2_expanded.explode(\"type_of_loan\")\n",
    "\n",
    "# Calculate the average credit score for each loan type\n",
    "average_credit_scores = (df_tt2_expanded.groupby(\"type_of_loan\")[\"credit_score_target\"]\n",
    "                         .mean()\n",
    "                         .reindex(df_tt2_expanded[\"type_of_loan\"].value_counts().index))\n",
    "\n",
    "# Create the plot with the average credit score as labels\n",
    "plt.figure(figsize=(9, 5))\n",
    "sns.countplot(data=df_tt2_expanded,\n",
    "              y=\"type_of_loan\",\n",
    "              order=df_tt2_expanded[\"type_of_loan\"].value_counts().index,\n",
    "              palette=\"coolwarm\")\n",
    "\n",
    "# Add average credit score labels to the bars\n",
    "for index, value in enumerate(df_tt2_expanded[\"type_of_loan\"].value_counts()):\n",
    "    avg_score = average_credit_scores.iloc[index]\n",
    "    plt.text(\n",
    "        value + 1,  # Position to the right of the bar\n",
    "        index,  # Bar position\n",
    "        f\"Avg: {avg_score:.1f}\",  # Format average credit score\n",
    "        va=\"center\",\n",
    "        fontsize=10,\n",
    "        color=\"black\"\n",
    "    )\n",
    "\n",
    "# Add titles and labels\n",
    "plt.title(\"Distribution of Loan Types with Average Credit Scores\", fontsize=16, fontweight=\"bold\")\n",
    "plt.xlabel(\"Count\", fontsize=12)\n",
    "plt.ylabel(\"Type of Loan\", fontsize=12)\n",
    "plt.grid(axis=\"x\", linestyle=\"--\", alpha=0.7)\n",
    "\n",
    "# Show the plot\n",
    "plt.tight_layout()\n",
    "plt.show()"
   ]
  },
  {
   "cell_type": "code",
   "execution_count": null,
   "id": "1f7ffdad-954b-4177-8f8a-a4e4c8331be3",
   "metadata": {},
   "outputs": [],
   "source": [
    "# This column probably needs a bit of cleaning."
   ]
  },
  {
   "cell_type": "code",
   "execution_count": null,
   "id": "be28761c-9839-42ae-a33d-7da2b6e65129",
   "metadata": {},
   "outputs": [],
   "source": []
  },
  {
   "cell_type": "markdown",
   "id": "5eeee534-7b92-476f-88ff-671676f1d248",
   "metadata": {},
   "source": [
    "#### Payment of Min Amount"
   ]
  },
  {
   "cell_type": "code",
   "execution_count": null,
   "id": "91d0a1cc-0bdd-42b5-bfc5-be0e05a833c0",
   "metadata": {},
   "outputs": [],
   "source": [
    "# Column is of Object Data Type - but Data Dictionary says this column should be boolean.\n",
    "print(\"The Payment of Min Amount column is of %s datatype. \" % (df3[\"payment_of_min_amount\"].dtype))\n",
    "\n",
    "# No NULL values in this field.\n",
    "print(\"%d%% of the data is a NULL value for this feature\"%(round((df3.loc[df3[\"payment_of_min_amount\"].isnull()].shape[0]/100000)*100, 0)))\n",
    "\n",
    "# There is a value 'NM' which I assume means unknown as Data Dictionary indicates col boolean.\n",
    "print(df3[\"payment_of_min_amount\"].unique())\n",
    "\n",
    "# 12% of the data is Unknown or Missing.\n",
    "print(\"{}% of the data has an incorrect value of NM.\".format(round((df3.loc[df3[\"payment_of_min_amount\"]==\"NM\"].shape[0]/df3.shape[0])*100),2))\n",
    "\n",
    "# Impute 'NM' values with mode / most frequently occuring value.\n",
    "mode = df3[\"payment_of_min_amount\"].mode()\n",
    "df3[\"payment_of_min_amount\"] = np.where(df3[\"payment_of_min_amount\"] == \"NM\", mode, df3[\"payment_of_min_amount\"])\n",
    "df3[\"payment_of_min_amount\"].value_counts()"
   ]
  },
  {
   "cell_type": "markdown",
   "id": "798bfbe0-36e0-41e4-9f44-52c4eb3d6c6b",
   "metadata": {},
   "source": [
    "#### Amount Invested Monthly"
   ]
  },
  {
   "cell_type": "code",
   "execution_count": null,
   "id": "0f62067c-71f2-497a-aaf3-a4e3276e6645",
   "metadata": {},
   "outputs": [],
   "source": [
    "# Column is of Object Data Type - but Data Dictionary says this column should be boolean.\n",
    "print(\"Amount Invested Monthly column is of %s datatype. \" % (df3[\"amount_invested_monthly\"].dtype))\n",
    "\n",
    "# No NULL values in this field.\n",
    "print(\"%d%% of the data is a NULL value for this feature\"%(\n",
    "    round((df3.loc[df3[\"amount_invested_monthly\"].isnull()].shape[0]/100000)*100, 0)))\n",
    "\n",
    "# We do have ~150 values which = 0.0, but it's a very small proportion and this is entirely possible.\n",
    "print(\"{} values are 0.0 but no cause for concernt as this is possible.\"\n",
    "      .format(df3[[\"customer_id\", \"amount_invested_monthly\"]].loc[df3[\"amount_invested_monthly\"]==0.0].shape[0]))"
   ]
  },
  {
   "cell_type": "code",
   "execution_count": null,
   "id": "36ae5bdc-0a5b-4b14-8b54-11f684641887",
   "metadata": {},
   "outputs": [],
   "source": [
    "# Let's impute missing values with an average.\n",
    "# Data looks skewed so perform outlier removal to calculate mean.\n",
    "outliers_amnt_inv = remove_outliers_using_IQR(col=df3[\"amount_invested_monthly\"],\n",
    "                                              factor=1.5, name_col=\"amount_invested_monthly\")\n",
    "\n",
    "# Remove outliers from feature.\n",
    "amnt_inv_treated = df3.loc[~(df3[\"amount_invested_monthly\"].isin(list(outliers_amnt_inv)))]\n",
    "\n",
    "# Calculate a median value, now we have a more balanced dataset.\n",
    "mean_amnt_inv = amnt_inv_treated[\"amount_invested_monthly\"].mean()\n",
    "\n",
    "# Impute missing data with mean value.\n",
    "df3[\"amount_invested_monthly\"] = np.where(df3[\"amount_invested_monthly\"].isnull(), mean_amnt_inv, df3[\"amount_invested_monthly\"])"
   ]
  },
  {
   "cell_type": "code",
   "execution_count": null,
   "id": "a456eb3f-0b10-48b6-a81c-3e22aefcb2a4",
   "metadata": {},
   "outputs": [],
   "source": [
    "# Seaborn histogram shows Right-Skewed (Positively Skewed) distribution\n",
    "vis = amnt_inv_treated.loc[amnt_inv_treated[\"amount_invested_monthly\"].notnull()]\n",
    "\n",
    "# Visualise.\n",
    "plt.figure(figsize=(5.5, 4))\n",
    "sns.histplot(data=vis, x=\"amount_invested_monthly\", kde=True)\n",
    "plt.tight_layout()  # Ensure everything fits well\n",
    "plt.show()"
   ]
  },
  {
   "cell_type": "markdown",
   "id": "265d1cc8-60f8-419e-8355-b6ad7b7b6adc",
   "metadata": {},
   "source": [
    "#### Changed Credit Limit"
   ]
  },
  {
   "cell_type": "code",
   "execution_count": null,
   "id": "af472c01-3fb0-4b4c-b99b-2a113b454706",
   "metadata": {},
   "outputs": [],
   "source": [
    "# Column is of STRING datatype - incorrect. (should be numeric).\n",
    "print(\"The Changed Credit Limit column is of %s datatype. \" % (df3[\"changed_credit_limit\"].dtype))\n",
    "\n",
    "# 2% values in this field are NULL\n",
    "print(\"%d%% of the data is a NULL value for this feature\"%(round((df3.loc[df3[\"changed_credit_limit\"].isnull()].shape[0]/100000)*100, 0)))\n",
    "\n",
    "# 4 records have a changed credit limit = 0.0, which is possible.\n",
    "df3.loc[df3[\"changed_credit_limit\"]==0.0].shape[0]"
   ]
  },
  {
   "cell_type": "code",
   "execution_count": null,
   "id": "490a22b9-de74-441f-b197-1612c12bbe3c",
   "metadata": {},
   "outputs": [],
   "source": [
    "# Field contains special characters that prevent it from being interpreted as numeric.\n",
    "df3[[\"customer_id\", \"changed_credit_limit\"]].loc[df3[\"changed_credit_limit\"].str.contains(r'[_\\s]', na=False)][:5]\n",
    "\n",
    "# Clean the column and convert to numeric\n",
    "df3[\"changed_credit_limit\"] = pd.to_numeric(df3[\"changed_credit_limit\"], errors='coerce')\n",
    "\n",
    "# Quite a few cases where 'changed_credit_limit' has negative values - doesn't make sense to me.\n",
    "# We will leave them for now as it's only 1% with negative values\n",
    "print(\"{}% of the data has a negative value which seems unnatural.\"\n",
    "      .format(round((df3[[\"customer_id\", \"changed_credit_limit\"]].loc[df3[\"changed_credit_limit\"]<0].shape[0]/df3.shape[0])*100, 2)))"
   ]
  },
  {
   "cell_type": "code",
   "execution_count": null,
   "id": "d1fcd698-07e7-4804-955b-240de60db698",
   "metadata": {},
   "outputs": [],
   "source": [
    "# Some more NULL data now this conversion has been done. Let's replace NULL with an average value.\n",
    "outliers = remove_outliers_using_IQR(col = df3[\"changed_credit_limit\"], factor=1.5, name_col=\"Changed Credit Limit\")\n",
    "\n",
    "# Remove outliers from Changed Credit Limit feature.\n",
    "changed_credit_limit = df3.loc[~(df3[\"changed_credit_limit\"].isin(list(outliers)))]\n",
    "\n",
    "# Calculate a average, now we have a more balanced dataset.\n",
    "average_credit_limit_changed = changed_credit_limit[\"changed_credit_limit\"].mean()\n",
    "\n",
    "# Now go back to original data and impute NULL data with this average amount.\n",
    "df3[\"changed_credit_limit\"] = np.where(df3[\"changed_credit_limit\"].isnull(),\n",
    "                                      average_credit_limit_changed,\n",
    "                                      df3[\"changed_credit_limit\"])"
   ]
  },
  {
   "cell_type": "code",
   "execution_count": null,
   "id": "4172ed3e-12d9-4a47-b23a-0eedcf835134",
   "metadata": {},
   "outputs": [],
   "source": [
    "### CHECKS ###\n",
    "# Check the shape of the data is the SAME - we didn't want to drop any rows\n",
    "print(df3[\"changed_credit_limit\"].shape[0])\n",
    "\n",
    "# Check that impute NULL values with average worked - should be no NULLs.\n",
    "print(df3.loc[df3[\"changed_credit_limit\"].isnull()].shape[0])"
   ]
  },
  {
   "cell_type": "code",
   "execution_count": null,
   "id": "c6bdb08d-90da-435f-b1eb-6bc97ac9cf41",
   "metadata": {},
   "outputs": [],
   "source": [
    "# Creating some basic visualizations to see distribution and relationship to credit score.\n",
    "fig, axes = plt.subplots(1, 3, figsize=(10, 4))\n",
    "\n",
    "# Boxplot for changed_credit_limit\n",
    "sns.boxplot(ax=axes[0], y=df3[\"changed_credit_limit\"], color=\"lightblue\")\n",
    "axes[0].set_title('Changed Credit Limit Boxplot', fontsize=10, fontweight='bold')\n",
    "axes[0].set_ylabel(\"Changed Credit Limit\")\n",
    "axes[0].set_xlabel('')\n",
    "\n",
    "# Histogram for changed_credit_limit\n",
    "sns.histplot(ax=axes[1], x=df3['changed_credit_limit'], bins=30, kde=True, color=\"green\")\n",
    "axes[1].set_title('Changed Credit Limit Distribution', fontsize=10, fontweight='bold')\n",
    "axes[1].set_xlabel(\"Changed Credit Limit\")\n",
    "axes[1].set_ylabel(\"Frequency\")\n",
    "\n",
    "# Quick plot to see if there's a relationship between with credit_score_target.\n",
    "sns.scatterplot(ax=axes[2], x=df3['changed_credit_limit'], y=df3[\"credit_score_target\"], alpha=0.6)\n",
    "axes[2].set_title(\"Changed Credit Limit vs Credit Score Target\", fontsize=10, fontweight='bold')\n",
    "axes[2].set_xlabel(\"Changed Credit Limit\")\n",
    "axes[2].set_ylabel(\"Credit Score Target\")\n",
    "\n",
    "# Adjust layout for better appearance\n",
    "plt.tight_layout()\n",
    "plt.show()"
   ]
  },
  {
   "cell_type": "markdown",
   "id": "228c8e1a-d38a-4957-8c69-22f742801712",
   "metadata": {},
   "source": [
    "#### SUMMARY:\n",
    "\n",
    "- The changed_credit_limit variable was correctly parsed as a float in the training data, however in the test and validation datasets values were missing (represented as NaN), had spaces, or contained special characters. Thus prevented it from being interpreted as numeric.\n",
    "- So the entire column when concatenating was coerced to a String/Object datatype. When there are inconsistencies in the column, pandas defaults to treating it as a string.\n",
    "- There were ~1k rows which could not be converted missing data / NULL values. After coersion we have 3% missing data. I do not want to drop data, so we used an average value to fill in NULLs.\n",
    "\n",
    "Boxplot of Changed Credit Limit: Shows the distribution of changed_credit_limit with potential outliers.\n",
    "Histogram of Changed Credit Limit: Displays the frequency distribution with a kernel density estimate (KDE) overlay.\n",
    "Scatter Plot (Changed Credit Limit vs Credit Score Target): Illustrates the relationship between changed_credit_limit and credit_score_target.\n",
    "\n",
    "Reasons for Choosing 30 Bins:\n",
    "- Many data visualization tools (like Matplotlib) use 30 bins as a default because it works well for a variety of datasets.\n",
    "- Too few bins might oversimplify the data distribution, while too many bins could make the histogram cluttered and harder to interpret.\n",
    "- Your dataset is large enough (~150,000 rows) to justify dividing it into more bins without making the histogram too sparse.\n",
    "- A moderate bin size allows stakeholders to understand key patterns, such as the central tendency and spread, without being overwhelmed by excessive granularity."
   ]
  },
  {
   "cell_type": "markdown",
   "id": "2adbcc57-e6a9-48ea-a247-5f9652d14773",
   "metadata": {},
   "source": [
    "#### Interest Rate"
   ]
  },
  {
   "cell_type": "code",
   "execution_count": null,
   "id": "5cc65390-4622-499d-a33a-16a11c3b0c86",
   "metadata": {},
   "outputs": [],
   "source": [
    "# Column is of integer datat-type.\n",
    "print(\"The Interest Rate column is of %s datatype. \" % (df3[\"interest_rate\"].dtype))\n",
    "\n",
    "# No missind data or null values in this field.\n",
    "print(\"%d%% of the data is a NULL value for this feature\"%(round((df3.loc[df3[\"interest_rate\"].isnull()].shape[0]/100000)*100, 0)))\n",
    "\n",
    "# No one has a 0% interest rate.\n",
    "df3.loc[df3[\"interest_rate\"]==0].shape[0]"
   ]
  },
  {
   "cell_type": "markdown",
   "id": "7a4285e9-29ba-4b14-ab33-a8b16814f1c4",
   "metadata": {},
   "source": [
    "#### Number of Credit Inquiries"
   ]
  },
  {
   "cell_type": "code",
   "execution_count": null,
   "id": "cba63e92-2c0b-4061-b11c-64bcfc80e9f3",
   "metadata": {},
   "outputs": [],
   "source": [
    "# Column is of Object Data Type - but Data Dictionary says this column should be boolean.\n",
    "print(\"Number of Credit Inquiries column is of %s datatype. \" % (df3[\"num_credit_inquiries\"].dtype))\n",
    "\n",
    "# No NULL values in this field.\n",
    "print(\"%d%% of the data is a NULL value for this feature\"%(\n",
    "    round((df3.loc[df3[\"num_credit_inquiries\"].isnull()].shape[0]/100000)*100, 0)))"
   ]
  },
  {
   "cell_type": "code",
   "execution_count": null,
   "id": "00f0d035-e4a1-4e07-a36a-ebe49fdbae4d",
   "metadata": {},
   "outputs": [],
   "source": [
    "# Identify outliers using helper function which uses IQR method.\n",
    "outliers_cred_inq = remove_outliers_using_IQR(col=df3[\"num_credit_inquiries\"],\n",
    "                                              factor=1.5,\n",
    "                                              name_col=\"Number of CrediT Inquiries\")\n",
    "\n",
    "# Remove outliers from AGE feature.\n",
    "cred_inq_treated = df3.loc[~(df3[\"num_credit_inquiries\"].isin(list(outliers_cred_inq)))]\n",
    "\n",
    "# Calculate a median value, now we have a more balanced dataset.\n",
    "median_cred_inq = cred_inq_treated[\"num_credit_inquiries\"].median()\n",
    "mean_cred_inq = cred_inq_treated[\"num_credit_inquiries\"].mean()\n",
    "\n",
    "# Now go back to out ORIGINAL data - impute NULL with median value.\n",
    "df3[\"num_credit_inquiries\"] = np.where(df3[\"num_credit_inquiries\"].isnull(),\n",
    "                                       median_cred_inq,\n",
    "                                       df3[\"num_credit_inquiries\"])\n",
    "\n",
    "# Also fill NULLS in the treated df for visualisation.\n",
    "cred_inq_treated[\"num_credit_inquiries\"] = np.where(cred_inq_treated[\"num_credit_inquiries\"].isnull(),\n",
    "                                                    median_cred_inq,\n",
    "                                                    cred_inq_treated[\"num_credit_inquiries\"])"
   ]
  },
  {
   "cell_type": "code",
   "execution_count": null,
   "id": "f45edeee-c9b3-4819-ba68-0053097408ad",
   "metadata": {},
   "outputs": [],
   "source": [
    "# Creating some basic visualizations to see distribution and relationship to credit score.\n",
    "fig, axes = plt.subplots(1, 3, figsize=(10, 4))\n",
    "\n",
    "# Boxplot\n",
    "sns.boxplot(ax=axes[0], y=cred_inq_treated[\"num_credit_inquiries\"], color=\"lightblue\")\n",
    "axes[0].set_title('Credit Inquiries Boxplot', fontsize=10, fontweight=\"bold\")\n",
    "axes[0].set_ylabel(\"Credit Inquiries\")\n",
    "axes[0].set_xlabel('')\n",
    "\n",
    "# Histogram\n",
    "sns.histplot(ax=axes[1], x=cred_inq_treated['num_credit_inquiries'], bins=30, kde=True, color=\"green\")\n",
    "axes[1].set_title('Credit Inquiries Distribution', fontsize=10, fontweight=\"bold\")\n",
    "axes[1].set_xlabel(\"Number Of Credit Inquiries\")\n",
    "axes[1].set_ylabel(\"Frequency\")\n",
    "\n",
    "# Quick plot to see if there's a relationship between with credit_score_target.\n",
    "sns.scatterplot(ax=axes[2], x=cred_inq_treated['num_credit_inquiries'], y=cred_inq_treated[\"credit_score_target\"], alpha=0.6)\n",
    "axes[2].set_title(\"Credit Inquiries vs Credit Score Target\", fontsize=10, fontweight='bold')\n",
    "axes[2].set_xlabel(\"Number Of Credit Inquiries\")\n",
    "axes[2].set_ylabel(\"Credit Score Target\")\n",
    "\n",
    "# Adjust layout for better appearance\n",
    "plt.tight_layout()\n",
    "plt.show()"
   ]
  },
  {
   "cell_type": "markdown",
   "id": "a0d0d44d-190e-44cf-881d-ff0e8008015f",
   "metadata": {},
   "source": [
    "#### Monthly Balance"
   ]
  },
  {
   "cell_type": "code",
   "execution_count": null,
   "id": "0c77e325-0e7f-4155-b467-f445f4c88d80",
   "metadata": {},
   "outputs": [],
   "source": [
    "# Column is of float datatype.\n",
    "print(\"The Monthly Balance column is of %s datatype. \" % (df3[\"monthly_balance\"].dtype))\n",
    "\n",
    "# 1% values in this field are NULL\n",
    "print(\"%d%% of the data is a NULL value for this feature\"%(round((df3.loc[df3[\"monthly_balance\"].isnull()].shape[0]/100000)*100, 0)))\n",
    "\n",
    "# No one seems to have a monthly balance of £0\n",
    "print(\"{} rows where the monthly balance is = 0.0\".format(df3.loc[df3[\"monthly_balance\"]==0.0].shape[0]))"
   ]
  },
  {
   "cell_type": "code",
   "execution_count": null,
   "id": "61cc4173-92f0-4e37-a567-be909ea4aec3",
   "metadata": {},
   "outputs": [],
   "source": [
    "# Having NULLs won't work for modelling so we impute them with average value following outlier treatment.\n",
    "mb_outliers = remove_outliers_using_IQR(col = df3[\"monthly_balance\"], factor=1.5, name_col=\"Monthly Balance\")\n",
    "\n",
    "# Remove outliers from Monthly Balance feature.\n",
    "monthly_balance_treated = df3.loc[~(df3[\"monthly_balance\"].isin(list(mb_outliers)))]\n",
    "\n",
    "# Calculate a average, now we have a more balanced dataset.\n",
    "average_monthly_balance = monthly_balance_treated[\"monthly_balance\"].mean()\n",
    "\n",
    "# Now go back to original data and impute NULL data with this average amount.\n",
    "df3[\"monthly_balance\"] = np.where(df3[\"monthly_balance\"].isnull(),\n",
    "                                      average_monthly_balance,\n",
    "                                      df3[\"monthly_balance\"])"
   ]
  },
  {
   "cell_type": "code",
   "execution_count": null,
   "id": "8d4b5e7a-bb4b-4a18-a4b9-48af5eb547ca",
   "metadata": {},
   "outputs": [],
   "source": [
    "# There seemed to be 15 rows which had very negative monthly balances, I will drop these.\n",
    "# Record in new dataframe becuase I am dropping rows.\n",
    "df4 = df3.loc[df3[\"monthly_balance\"]>=0.0]"
   ]
  },
  {
   "cell_type": "code",
   "execution_count": null,
   "id": "17f7d205-6491-484f-ad3f-8c2c8faf4eeb",
   "metadata": {},
   "outputs": [],
   "source": [
    "### 149985 new volume\n",
    "df4.shape[0]"
   ]
  },
  {
   "cell_type": "markdown",
   "id": "c3dcce4e-1dd5-4b0a-8fa4-c7b9a0b907c6",
   "metadata": {},
   "source": [
    "#### Total EMI per Month"
   ]
  },
  {
   "cell_type": "code",
   "execution_count": null,
   "id": "95a9221e-67d9-4886-a5bf-0a765e96266e",
   "metadata": {},
   "outputs": [],
   "source": [
    "# Column is of float datatype.\n",
    "print(\"The Total EMI column is of %s datatype. \" % (df4[\"total_emi_per_month\"].dtype))\n",
    "\n",
    "# 0% values in this field are NULL\n",
    "print(\"%d%% of the data is a NULL value for this feature\"%(round((df4.loc[df4[\"total_emi_per_month\"].isnull()].shape[0]/100000)*100, 0)))\n",
    "\n",
    "# 1k rows with 0.0 values - which is fine / can be possible so leave as is.\n",
    "print(\"{} rows where the monthly balance is = 0.0\".format(df4.loc[df4[\"total_emi_per_month\"]==0.0].shape[0]))"
   ]
  },
  {
   "cell_type": "code",
   "execution_count": null,
   "id": "73eb2230-0f36-425c-aa43-b38712d0d8f3",
   "metadata": {},
   "outputs": [],
   "source": [
    "# Looks like it has outliers, but leave this for now.\n",
    "df4[\"total_emi_per_month\"].describe()"
   ]
  },
  {
   "cell_type": "code",
   "execution_count": null,
   "id": "2ca53274-5c37-4df5-b56b-9f2bb40ea348",
   "metadata": {},
   "outputs": [],
   "source": []
  },
  {
   "cell_type": "markdown",
   "id": "990e57fb-3692-4a26-aed8-c7c08ff5ddcc",
   "metadata": {},
   "source": [
    "#### Monthly Inhand Salary"
   ]
  },
  {
   "cell_type": "code",
   "execution_count": null,
   "id": "d11b8cd2-2d9c-4ea0-a8f7-102888f46ba4",
   "metadata": {},
   "outputs": [],
   "source": [
    "# Column is of float datatype.\n",
    "print(\"The Monthly Inhand Data col is of %s datatype. \" % (df4[\"monthly_inhand_salary\"].dtype))\n",
    "\n",
    "# 22% values in this field are NULL - A LOT OF MISSING DATA.\n",
    "print(\"%d%% of the data is a NULL value for this feature\"%(round((df4.loc[df4[\"monthly_inhand_salary\"].isnull()].shape[0]/100000)*100, 0)))\n",
    "\n",
    "# No one has a monthly balance of 0.0.\n",
    "print(\"{} rows where the monthly balance is = 0.0\".format(df4.loc[df4[\"monthly_inhand_salary\"]==0.0].shape[0]))"
   ]
  },
  {
   "cell_type": "code",
   "execution_count": null,
   "id": "906156de-bc24-46a3-a10a-46f62eaf95b4",
   "metadata": {},
   "outputs": [],
   "source": [
    "# Having NULLs won't work for modelling so we impute them with average value following outlier treatment.\n",
    "month_sal_outliers = remove_outliers_using_IQR(col=df4[\"monthly_inhand_salary\"],\n",
    "                                               factor=1.5,\n",
    "                                               name_col=\"Monthly Inhand Salary\")\n",
    "\n",
    "# Remove outliers from Monthly Balance feature.\n",
    "month_sal_treated = df4.loc[~(df4[\"monthly_inhand_salary\"].isin(list(month_sal_outliers)))]\n",
    "\n",
    "# Calculate a average, now we have a more balanced dataset.\n",
    "average_month_sal = month_sal_treated[\"monthly_inhand_salary\"].mean()\n",
    "\n",
    "# Now go back to original data and impute NULL data with this average amount.\n",
    "df4[\"monthly_inhand_salary\"] = np.where(df4[\"monthly_inhand_salary\"].isnull(),\n",
    "                                      average_month_sal,\n",
    "                                      df4[\"monthly_inhand_salary\"])"
   ]
  },
  {
   "cell_type": "markdown",
   "id": "51614466-2984-479d-97b6-2d314536b668",
   "metadata": {},
   "source": [
    "- Monthly inhand salary and Annual Income should have a strong relationship.\n",
    "- Given more time I would explore this relationship find a formula using simple regression which predicts monthly inhand salary, given annual income.\n",
    "- Not enough time to do proper MVI (missing value imputation)."
   ]
  },
  {
   "cell_type": "code",
   "execution_count": null,
   "id": "e7d95345-c57f-4435-95e9-3cbdcff656b9",
   "metadata": {},
   "outputs": [],
   "source": []
  },
  {
   "cell_type": "markdown",
   "id": "c0bd2794-eaa9-4d60-97ac-e85ecb72c3af",
   "metadata": {},
   "source": [
    "#### TARGET VARIABLE: Credit Score"
   ]
  },
  {
   "cell_type": "markdown",
   "id": "e9ba128f-5e3e-408b-8225-883ca0244379",
   "metadata": {},
   "source": [
    "#### Credit Performance Over Time - Time Series"
   ]
  },
  {
   "cell_type": "code",
   "execution_count": null,
   "id": "29f35bab-22ca-4794-b8ec-2361f3499dc7",
   "metadata": {},
   "outputs": [],
   "source": [
    "# Column is of Floating Point Number Data Type.\n",
    "print(\"The Credit Score column is of %s datatype. \" % (df4[\"credit_score_target\"].dtype))\n",
    "\n",
    "# Remove validation data becuase we don't have the scores for those.\n",
    "df5 = df4.loc[df4[\"data_cat\"]!=\"validation\"]\n",
    "\n",
    "df5 = df4.copy()\n",
    "\n",
    "# Validation credit scores are missing.\n",
    "print(\"%d%% of the data is missing for this feature\" % (\n",
    "    round((df5.loc[df5[\"credit_score_target\"].isnull()].shape[0]/100000)*100, 0)))\n",
    "print(\" \")\n",
    "\n",
    "# Highest credit score is 836, lowest is 543 and the average ~700.\n",
    "print(df5[\"credit_score_target\"].describe())"
   ]
  },
  {
   "cell_type": "code",
   "execution_count": null,
   "id": "accad9a4-4d0f-4e41-ba1b-4516b21a8a80",
   "metadata": {},
   "outputs": [],
   "source": [
    "# Convert 'month' column to datetime format assuming data spans a single year (e.g., 2024)\n",
    "df5['month'] = pd.to_datetime(df5['month'], format='%B', errors='coerce')\n",
    "\n",
    "# Drop rows with invalid month parsing, if any\n",
    "time_series_data = df5.dropna(subset=['month'])\n",
    "\n",
    "# Sort the data by the 'month' column\n",
    "time_series_data = time_series_data.sort_values(by='month')\n",
    "\n",
    "# Group by month and calculate the average credit score\n",
    "monthly_avg_credit_score = time_series_data.groupby('month')['credit_score_target'].mean()"
   ]
  },
  {
   "cell_type": "code",
   "execution_count": null,
   "id": "76139fdd-d024-405d-9c82-5e061c47177f",
   "metadata": {},
   "outputs": [],
   "source": [
    "# Plot the results\n",
    "plt.figure(figsize=(8, 4))\n",
    "plt.plot(monthly_avg_credit_score.index, monthly_avg_credit_score.values, marker='o', linestyle='-', linewidth=2)\n",
    "\n",
    "# Customizing the plot with proper month labels\n",
    "plt.title(\"Average Credit Score Over Time\", fontsize=12)\n",
    "plt.xlabel(\"Month\", fontsize=10)\n",
    "plt.ylabel(\"Average Credit Score\", fontsize=10)\n",
    "plt.xticks(monthly_avg_credit_score.index, monthly_avg_credit_score.index.strftime('%B'), rotation=45, fontsize=10)\n",
    "plt.grid(True, linestyle='--', alpha=0.6)\n",
    "plt.tight_layout()\n",
    "\n",
    "plt.show()"
   ]
  },
  {
   "cell_type": "markdown",
   "id": "e1aaf234-f4e6-4068-9b6c-f60ecb7a852c",
   "metadata": {},
   "source": [
    "- The credit score appears to fluctuate slightly over time without dramatic increases or decreases.\n",
    "- September - December we have 50% of the full data so there is natually more volatility.\n",
    "\n",
    "- This indicates relative stability in the average credit scores.\n",
    "\n",
    "- Some months show notable dips or rises. E.g. a potential drop in credit scores during certain months (e.g., around March or April).\n",
    "\n",
    "- A recovery or rise in scores toward months like May or later.\n",
    "\n",
    "- There seems to be no strong upward or downward long-term trend, but minor shifts within the year could reflect seasonal behaviors or economic factors impacting customers’ financial health.\n",
    "\n",
    "- If scores consistently decrease during the earlier months and recover later, it could indicate cyclical financial pressures, such as post-holiday financial stress (January-February) or mid-year adjustments."
   ]
  },
  {
   "cell_type": "markdown",
   "id": "cd69e6cb-1dfc-40f6-8363-ad10161450cc",
   "metadata": {},
   "source": [
    "#### SUMMARY:\n",
    "\n",
    "Sample Window\n",
    "Crucial step is identifying the sample window. This time frame defines when you’ll gather your data sample for constructing the scorecard. It needs to encompass a substantial number of both good and bad loans. Additionally, it should strike a balance between not being too outdated or too recent.\n",
    "- Seasonality - explore more given time."
   ]
  },
  {
   "cell_type": "code",
   "execution_count": null,
   "id": "b950067c-7116-4fc5-a94f-e2715b8012d4",
   "metadata": {},
   "outputs": [],
   "source": []
  },
  {
   "cell_type": "markdown",
   "id": "6eb457b9-0ab4-4010-88d0-1d13701e85e5",
   "metadata": {},
   "source": [
    "## ADVANCED EDA"
   ]
  },
  {
   "cell_type": "code",
   "execution_count": null,
   "id": "baa3b873-ebce-4b1c-8b40-b13c19a0cfd4",
   "metadata": {},
   "outputs": [],
   "source": [
    "# Separate numerical columns to get an idea of the level of multicollinearity in the data.\n",
    "numerical_cols = df5[['age', 'annual_income', 'monthly_inhand_salary', 'num_bank_accounts', 'num_credit_card',\n",
    "                      'interest_rate', 'num_of_loan', 'delay_from_due_date', 'num_of_delayed_payment', 'changed_credit_limit',\n",
    "                      'num_credit_inquiries', 'outstanding_debt', 'credit_utilization_ratio', 'credit_utilization_ratio_2',\n",
    "                      'credit_utilization_ratio_3', 'credit_history_age', 'total_emi_per_month',\n",
    "                      'amount_invested_monthly', 'monthly_balance', 'credit_score_target']]\n",
    "\n",
    "# Does not have credit score target in it\n",
    "num_col_names = ['age', 'annual_income', 'monthly_inhand_salary', 'num_bank_accounts', 'num_credit_card',\n",
    "                 'interest_rate', 'num_of_loan', 'delay_from_due_date', 'num_of_delayed_payment', 'changed_credit_limit',\n",
    "                 'num_credit_inquiries', 'outstanding_debt', 'credit_utilization_ratio', 'credit_utilization_ratio_2',\n",
    "                 'credit_utilization_ratio_3', 'credit_history_age', 'total_emi_per_month',\n",
    "                 'amount_invested_monthly', 'monthly_balance']"
   ]
  },
  {
   "cell_type": "code",
   "execution_count": null,
   "id": "7382cf1b-8442-493c-9cf3-9584357c11f5",
   "metadata": {},
   "outputs": [],
   "source": [
    "# Check all of these columns are of numeric datatype.\n",
    "for i in numerical_cols.columns:\n",
    "    if is_column_numerical(df=numerical_cols, column_name=i):\n",
    "        pass\n",
    "    else:\n",
    "        print(f\"The column '{i}' is not numerical.\")\n",
    "        \n",
    "# Check to make sure all NULL values are accounted for \n",
    "for i in df5.columns:\n",
    "    if df5.loc[df5[i].isnull()].shape[0]!=0:\n",
    "        print(f\"The column '{i}' has NULL values\")\n",
    "    else:\n",
    "        pass"
   ]
  },
  {
   "cell_type": "code",
   "execution_count": null,
   "id": "73a2caf5-e9eb-4139-9425-de9fe1c8d04b",
   "metadata": {},
   "outputs": [],
   "source": [
    "# Make a copy of data for complete outlier removal. RE-RUN EVERY TIME YOU REMOVE OUTLIERS.\n",
    "# Making a copy as I will lose data.\n",
    "df6 = df5.copy()"
   ]
  },
  {
   "cell_type": "code",
   "execution_count": null,
   "id": "8f07c1aa-bde1-4206-80af-84b9f5305cf2",
   "metadata": {},
   "outputs": [],
   "source": [
    "# I am going to change the factor to 3.5 as there are A LOT of outliers in this data.\n",
    "for i in num_col_names:\n",
    "    df6 = outlier_removal_modelling(data=df6, colname=i, factor=3.5)\n",
    "    df6.reset_index(drop=True, inplace=True)"
   ]
  },
  {
   "cell_type": "code",
   "execution_count": null,
   "id": "0bc66a48-0e70-49a1-be18-aefb5aa0c4be",
   "metadata": {},
   "outputs": [],
   "source": [
    "# I don't want to lose a large % of data, but skewness will also affect results.\n",
    "df6.shape[0]"
   ]
  },
  {
   "cell_type": "code",
   "execution_count": null,
   "id": "07295148-da79-4ee5-9d6d-c871257f331b",
   "metadata": {},
   "outputs": [],
   "source": [
    "# When we perform universal outlier capping, we lose ~3k rows of data. So I want to avoid this.\n",
    "print(\"{} rows before outlier capping\".format(df5.shape[0]))\n",
    "print(\"{} rows after outlier capping\".format(df6.shape[0]))\n",
    "print(\"{}% data lost when applying a universal outlier capping technique.\"\n",
    "      .format(round(((df5.shape[0] - df6.shape[0])/df5.shape[0])*100,1)))"
   ]
  },
  {
   "cell_type": "code",
   "execution_count": null,
   "id": "1c91b38d-49b0-4491-93a0-77dcde8858fc",
   "metadata": {},
   "outputs": [],
   "source": [
    "# Correlation matrix to have a brief idea of the level of multicollinearity in the data.\n",
    "plt.figure(figsize=(10,5))\n",
    "sns.heatmap(df6.corr(), cmap=\"BrBG\", annot=True, annot_kws={\"size\": 6})\n",
    "plt.show()"
   ]
  },
  {
   "cell_type": "code",
   "execution_count": null,
   "id": "9cb0c38e-4953-4d8a-9fcf-6e24975fb72a",
   "metadata": {},
   "outputs": [],
   "source": [
    "# Extract correlations with the target column, sort in descending order\n",
    "high_corr_columns = (df6.corr()[\"credit_score_target\"]\n",
    "                     .drop(\"credit_score_target\")  # Drop self-correlation\n",
    "                     .abs()\n",
    "                     .sort_values(ascending=False))\n",
    "\n",
    "# Convert to a list of tuples (column, correlation)\n",
    "high_corr_list = high_corr_columns.reset_index().values.tolist()\n",
    "\n",
    "# Print the ordered list\n",
    "print(\"Columns with high correlation to target (ordered):\")\n",
    "for col, corr in high_corr_list:\n",
    "    print(f\"{col}: {corr:.2f}\")"
   ]
  },
  {
   "cell_type": "code",
   "execution_count": null,
   "id": "88b9653e-3b20-484a-a4fd-30638951d0ca",
   "metadata": {},
   "outputs": [],
   "source": []
  }
 ],
 "metadata": {
  "kernelspec": {
   "display_name": "Python 3 (ipykernel)",
   "language": "python",
   "name": "python3"
  },
  "language_info": {
   "codemirror_mode": {
    "name": "ipython",
    "version": 3
   },
   "file_extension": ".py",
   "mimetype": "text/x-python",
   "name": "python",
   "nbconvert_exporter": "python",
   "pygments_lexer": "ipython3",
   "version": "3.11.1"
  }
 },
 "nbformat": 4,
 "nbformat_minor": 5
}
